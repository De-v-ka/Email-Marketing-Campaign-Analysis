{
  "cells": [
    {
      "cell_type": "code",
      "execution_count": null,
      "metadata": {
        "colab": {
          "base_uri": "https://localhost:8080/"
        },
        "id": "qxo1O5Fb8cL5",
        "outputId": "739b6154-9b46-4432-dcd7-cbe7d773626d"
      },
      "outputs": [
        {
          "name": "stdout",
          "output_type": "stream",
          "text": [
            "SMOTE imported successfully!\n"
          ]
        }
      ],
      "source": [
        "from imblearn.over_sampling import SMOTE\n",
        "print(\"SMOTE imported successfully!\")\n"
      ]
    },
    {
      "cell_type": "code",
      "source": [
        "import matplotlib.pyplot as plt\n",
        "import seaborn as sns\n",
        "\n",
        "# Dark theme\n",
        "plt.style.use(\"dark_background\")\n",
        "sns.set_style(\"darkgrid\")\n"
      ],
      "metadata": {
        "id": "YUhxN6Mmygm-"
      },
      "execution_count": 2,
      "outputs": []
    },
    {
      "cell_type": "code",
      "execution_count": 1,
      "metadata": {
        "id": "x3QN9ENs8dn-"
      },
      "outputs": [],
      "source": [
        "import pandas as pd\n",
        "\n",
        "# Load datasets\n",
        "email_df = pd.read_csv('email_table.csv')\n",
        "opened_df = pd.read_csv('email_opened_table.csv')\n",
        "clicked_df = pd.read_csv('link_clicked_table.csv')\n"
      ]
    },
    {
      "cell_type": "code",
      "source": [
        "print(\"email_df info:\")\n",
        "email_df.info()"
      ],
      "metadata": {
        "colab": {
          "base_uri": "https://localhost:8080/"
        },
        "id": "hjvIfNwkyjpT",
        "outputId": "f0151a89-6871-49d4-f535-1d22f7d668f6"
      },
      "execution_count": 3,
      "outputs": [
        {
          "output_type": "stream",
          "name": "stdout",
          "text": [
            "email_df info:\n",
            "<class 'pandas.core.frame.DataFrame'>\n",
            "RangeIndex: 100000 entries, 0 to 99999\n",
            "Data columns (total 7 columns):\n",
            " #   Column               Non-Null Count   Dtype \n",
            "---  ------               --------------   ----- \n",
            " 0   email_id             100000 non-null  int64 \n",
            " 1   email_text           100000 non-null  object\n",
            " 2   email_version        100000 non-null  object\n",
            " 3   hour                 100000 non-null  int64 \n",
            " 4   weekday              100000 non-null  object\n",
            " 5   user_country         100000 non-null  object\n",
            " 6   user_past_purchases  100000 non-null  int64 \n",
            "dtypes: int64(3), object(4)\n",
            "memory usage: 5.3+ MB\n"
          ]
        }
      ]
    },
    {
      "cell_type": "code",
      "source": [
        "print(\"opened_df info:\")\n",
        "opened_df.info()"
      ],
      "metadata": {
        "colab": {
          "base_uri": "https://localhost:8080/"
        },
        "id": "7MJbtkvDylwX",
        "outputId": "302fc19c-6d03-4212-d09c-94ef3c21c25e"
      },
      "execution_count": 4,
      "outputs": [
        {
          "output_type": "stream",
          "name": "stdout",
          "text": [
            "opened_df info:\n",
            "<class 'pandas.core.frame.DataFrame'>\n",
            "RangeIndex: 10345 entries, 0 to 10344\n",
            "Data columns (total 1 columns):\n",
            " #   Column    Non-Null Count  Dtype\n",
            "---  ------    --------------  -----\n",
            " 0   email_id  10345 non-null  int64\n",
            "dtypes: int64(1)\n",
            "memory usage: 80.9 KB\n"
          ]
        }
      ]
    },
    {
      "cell_type": "code",
      "source": [
        "print(\"clicked_df info:\")\n",
        "clicked_df.info()"
      ],
      "metadata": {
        "colab": {
          "base_uri": "https://localhost:8080/"
        },
        "id": "yjhU0QUbynUM",
        "outputId": "28e131fc-66cd-400e-f15a-4c6e152c9a22"
      },
      "execution_count": 5,
      "outputs": [
        {
          "output_type": "stream",
          "name": "stdout",
          "text": [
            "clicked_df info:\n",
            "<class 'pandas.core.frame.DataFrame'>\n",
            "RangeIndex: 2119 entries, 0 to 2118\n",
            "Data columns (total 1 columns):\n",
            " #   Column    Non-Null Count  Dtype\n",
            "---  ------    --------------  -----\n",
            " 0   email_id  2119 non-null   int64\n",
            "dtypes: int64(1)\n",
            "memory usage: 16.7 KB\n"
          ]
        }
      ]
    },
    {
      "cell_type": "code",
      "source": [
        "\n",
        "print(email_df.head())\n",
        "print(opened_df.head())\n",
        "print(clicked_df.head())\n"
      ],
      "metadata": {
        "colab": {
          "base_uri": "https://localhost:8080/"
        },
        "id": "e2n4ZnGDyowI",
        "outputId": "42a37e8e-22dd-40f4-ec50-af65f74910e9"
      },
      "execution_count": 6,
      "outputs": [
        {
          "output_type": "stream",
          "name": "stdout",
          "text": [
            "   email_id   email_text email_version  hour    weekday user_country  \\\n",
            "0     85120  short_email  personalized     2     Sunday           US   \n",
            "1    966622   long_email  personalized    12     Sunday           UK   \n",
            "2    777221   long_email  personalized    11  Wednesday           US   \n",
            "3    493711  short_email       generic     6     Monday           UK   \n",
            "4    106887   long_email       generic    14     Monday           US   \n",
            "\n",
            "   user_past_purchases  \n",
            "0                    5  \n",
            "1                    2  \n",
            "2                    2  \n",
            "3                    1  \n",
            "4                    6  \n",
            "   email_id\n",
            "0    284534\n",
            "1    609056\n",
            "2    220820\n",
            "3    905936\n",
            "4    164034\n",
            "   email_id\n",
            "0    609056\n",
            "1    870980\n",
            "2    935124\n",
            "3    158501\n",
            "4    177561\n"
          ]
        }
      ]
    },
    {
      "cell_type": "code",
      "source": [
        "\n",
        "print(\"email_df shape:\", email_df.shape)\n",
        "print(\"opened_df shape:\", opened_df.shape)\n",
        "print(\"clicked_df shape:\", clicked_df.shape)\n"
      ],
      "metadata": {
        "colab": {
          "base_uri": "https://localhost:8080/"
        },
        "id": "FQ3z6PJdyqeN",
        "outputId": "3a96c7f5-814d-43f1-d64d-ca0df407a802"
      },
      "execution_count": 7,
      "outputs": [
        {
          "output_type": "stream",
          "name": "stdout",
          "text": [
            "email_df shape: (100000, 7)\n",
            "opened_df shape: (10345, 1)\n",
            "clicked_df shape: (2119, 1)\n"
          ]
        }
      ]
    },
    {
      "cell_type": "markdown",
      "source": [
        "# check for missing values"
      ],
      "metadata": {
        "id": "_4LI9zcUyttw"
      }
    },
    {
      "cell_type": "code",
      "source": [
        "print(\"Missing values in email_df:\\n\", email_df.isnull().sum())\n",
        "print(\"Missing values in opened_df:\\n\", opened_df.isnull().sum())\n",
        "print(\"Missing values in clicked_df:\\n\", clicked_df.isnull().sum())\n"
      ],
      "metadata": {
        "colab": {
          "base_uri": "https://localhost:8080/"
        },
        "id": "hblJ4R0SywDd",
        "outputId": "4b3073da-84f2-4ebe-e8ad-67d01b393230"
      },
      "execution_count": 8,
      "outputs": [
        {
          "output_type": "stream",
          "name": "stdout",
          "text": [
            "Missing values in email_df:\n",
            " email_id               0\n",
            "email_text             0\n",
            "email_version          0\n",
            "hour                   0\n",
            "weekday                0\n",
            "user_country           0\n",
            "user_past_purchases    0\n",
            "dtype: int64\n",
            "Missing values in opened_df:\n",
            " email_id    0\n",
            "dtype: int64\n",
            "Missing values in clicked_df:\n",
            " email_id    0\n",
            "dtype: int64\n"
          ]
        }
      ]
    },
    {
      "cell_type": "markdown",
      "source": [
        "# Understand Distribution of Categorical Variables"
      ],
      "metadata": {
        "id": "dv7bcGJlyyVL"
      }
    },
    {
      "cell_type": "code",
      "source": [
        "print(\"Email text types:\\n\", email_df['email_text'].value_counts())\n",
        "print(\"\\nEmail version types:\\n\", email_df['email_version'].value_counts())\n",
        "print(\"\\nWeekday distribution:\\n\", email_df['weekday'].value_counts())\n",
        "print(\"\\nUser country distribution (top 10):\\n\", email_df['user_country'].value_counts().head(10))\n"
      ],
      "metadata": {
        "colab": {
          "base_uri": "https://localhost:8080/"
        },
        "id": "aBkTXFBBy0v6",
        "outputId": "ef1e8529-0127-4393-88e3-281d98693efd"
      },
      "execution_count": 9,
      "outputs": [
        {
          "output_type": "stream",
          "name": "stdout",
          "text": [
            "Email text types:\n",
            " email_text\n",
            "long_email     50276\n",
            "short_email    49724\n",
            "Name: count, dtype: int64\n",
            "\n",
            "Email version types:\n",
            " email_version\n",
            "generic         50209\n",
            "personalized    49791\n",
            "Name: count, dtype: int64\n",
            "\n",
            "Weekday distribution:\n",
            " weekday\n",
            "Saturday     14569\n",
            "Sunday       14387\n",
            "Monday       14363\n",
            "Thursday     14277\n",
            "Friday       14177\n",
            "Tuesday      14143\n",
            "Wednesday    14084\n",
            "Name: count, dtype: int64\n",
            "\n",
            "User country distribution (top 10):\n",
            " user_country\n",
            "US    60099\n",
            "UK    19939\n",
            "FR     9995\n",
            "ES     9967\n",
            "Name: count, dtype: int64\n"
          ]
        }
      ]
    },
    {
      "cell_type": "markdown",
      "source": [
        "# **LETS GO THROGH SOME BASIC EDA....**"
      ],
      "metadata": {
        "id": "OyN6MNuj5FmE"
      }
    },
    {
      "cell_type": "markdown",
      "source": [
        "# Email Text Type"
      ],
      "metadata": {
        "id": "BdnJ47HH5BhJ"
      }
    },
    {
      "cell_type": "code",
      "source": [
        "plt.figure(figsize=(6, 4))\n",
        "ax = sns.countplot(x='email_text', data=email_df, palette='rocket')\n",
        "\n",
        "for p in ax.patches:\n",
        "    ax.annotate(f'{p.get_height()}', (p.get_x() + 0.3, p.get_height() + 300))\n",
        "\n",
        "plt.title(\"Email Text Type\", fontsize=14)\n",
        "plt.xlabel(\"Type\")\n",
        "plt.ylabel(\"Count\")\n",
        "plt.tight_layout()\n",
        "plt.show()\n"
      ],
      "metadata": {
        "colab": {
          "base_uri": "https://localhost:8080/",
          "height": 494
        },
        "id": "rvHh19J_y25F",
        "outputId": "ea044f82-0c0c-4bbd-8948-8a8254da0443"
      },
      "execution_count": 10,
      "outputs": [
        {
          "output_type": "stream",
          "name": "stderr",
          "text": [
            "<ipython-input-10-2eded5231728>:2: FutureWarning: \n",
            "\n",
            "Passing `palette` without assigning `hue` is deprecated and will be removed in v0.14.0. Assign the `x` variable to `hue` and set `legend=False` for the same effect.\n",
            "\n",
            "  ax = sns.countplot(x='email_text', data=email_df, palette='rocket')\n"
          ]
        },
        {
          "output_type": "display_data",
          "data": {
            "text/plain": [
              "<Figure size 600x400 with 1 Axes>"
            ],
            "image/png": "[encoded data removed]"
          },
          "metadata": {}
        }
      ]
    },
    {
      "cell_type": "markdown",
      "source": [
        "There is a fairly even distribution between the number of short emails and long emails in the dataset.\n",
        "Long emails slightly outnumber short emails, with approximately 50,276 long emails compared to roughly 49,724 short emails."
      ],
      "metadata": {
        "id": "bNe6J6s630nB"
      }
    },
    {
      "cell_type": "markdown",
      "source": [
        "# Email Version Distribution"
      ],
      "metadata": {
        "id": "lSMJF1GP4_D5"
      }
    },
    {
      "cell_type": "code",
      "source": [
        "version_counts = email_df['email_version'].value_counts()\n",
        "labels = version_counts.index\n",
        "sizes = version_counts.values\n",
        "\n",
        "plt.figure(figsize=(6, 6))\n",
        "patches, texts, autotexts = plt.pie(\n",
        "    sizes,\n",
        "    autopct='%1.1f%%',\n",
        "    startangle=140,\n",
        "    colors=sns.color_palette(\"mako\"),\n",
        "    textprops={'color': 'white'}\n",
        ")\n",
        "\n",
        "for text in texts:\n",
        "    text.set_text(\"\")\n",
        "\n",
        "plt.legend(patches, labels, title=\"Email Version\", loc=\"upper right\", bbox_to_anchor=(1.3, 1))\n",
        "\n",
        "plt.title(\"Email Version Distribution\", fontsize=14, color='white')\n",
        "plt.axis('equal')  # Equal aspect ratio\n",
        "plt.tight_layout()\n",
        "plt.show()\n"
      ],
      "metadata": {
        "colab": {
          "base_uri": "https://localhost:8080/",
          "height": 607
        },
        "id": "Z8fpHQUxy48X",
        "outputId": "e8ee5b35-d00e-4b4a-9200-7453bb86e100"
      },
      "execution_count": 11,
      "outputs": [
        {
          "output_type": "display_data",
          "data": {
            "text/plain": [
              "<Figure size 600x600 with 1 Axes>"
            ],
            "image/png": "[encoded data removed]"
          },
          "metadata": {}
        }
      ]
    },
    {
      "cell_type": "markdown",
      "source": [
        "The dataset contains a near split between generic and personalized emails.\n",
        "Generic emails make up a slightly larger portion of the data at 50.2%, while personalized emails account for 49.8%.\n",
        "\n",
        "\n",
        "\n",
        "\n",
        "\n",
        "\n"
      ],
      "metadata": {
        "id": "nYmXyF0z4EKA"
      }
    },
    {
      "cell_type": "markdown",
      "source": [
        "# Emails Sent by Weekday"
      ],
      "metadata": {
        "id": "WkZxpcG14J4t"
      }
    },
    {
      "cell_type": "code",
      "source": [
        "plt.style.use('dark_background')  # Dark theme\n",
        "\n",
        "plt.figure(figsize=(8, 5))\n",
        "\n",
        "weekday_order = ['Monday', 'Tuesday', 'Wednesday', 'Thursday', 'Friday', 'Saturday', 'Sunday']\n",
        "weekday_counts = email_df['weekday'].value_counts().reindex(weekday_order)\n",
        "\n",
        "ax = sns.barplot(y=weekday_counts.index, x=weekday_counts.values, palette='flare')\n",
        "\n",
        "for i, v in enumerate(weekday_counts.values):\n",
        "    ax.text(v + 500, i, f'{v:,}', color='white', va='center', fontsize=10)\n",
        "\n",
        "\n",
        "plt.title(\"Emails Sent by Weekday\", fontsize=14, color='white')\n",
        "plt.xlabel(\"Number of Emails\", color='white')\n",
        "plt.ylabel(\"Weekday\", color='white')\n",
        "\n",
        "ax.tick_params(colors='white')\n",
        "plt.tight_layout()\n",
        "plt.show()\n"
      ],
      "metadata": {
        "colab": {
          "base_uri": "https://localhost:8080/",
          "height": 594
        },
        "id": "6QpxKK76y7Cj",
        "outputId": "387224f9-13f6-4b65-944e-8decb49631e8"
      },
      "execution_count": 12,
      "outputs": [
        {
          "output_type": "stream",
          "name": "stderr",
          "text": [
            "<ipython-input-12-53e0c07de7e9>:8: FutureWarning: \n",
            "\n",
            "Passing `palette` without assigning `hue` is deprecated and will be removed in v0.14.0. Assign the `y` variable to `hue` and set `legend=False` for the same effect.\n",
            "\n",
            "  ax = sns.barplot(y=weekday_counts.index, x=weekday_counts.values, palette='flare')\n"
          ]
        },
        {
          "output_type": "display_data",
          "data": {
            "text/plain": [
              "<Figure size 800x500 with 1 Axes>"
            ],
            "image/png": "[encoded data removed]"
          },
          "metadata": {}
        }
      ]
    },
    {
      "cell_type": "markdown",
      "source": [
        "The number of emails sent is relatively consistent across all days of the week.\n",
        "Saturday sees the highest volume of emails sent, with 14,569, while Wednesday has the lowest, with 14,084."
      ],
      "metadata": {
        "id": "vU_nmtVf4PB6"
      }
    },
    {
      "cell_type": "markdown",
      "source": [
        "# Top 4 User Countries"
      ],
      "metadata": {
        "id": "GpguzrL34lAe"
      }
    },
    {
      "cell_type": "code",
      "source": [
        "top_countries = email_df['user_country'].value_counts().head(10)\n",
        "\n",
        "plt.style.use('dark_background')\n",
        "\n",
        "plt.figure(figsize=(10, 5))\n",
        "ax = sns.barplot(x=top_countries.index, y=top_countries.values, palette='icefire')\n",
        "\n",
        "\n",
        "for p in ax.patches:\n",
        "    height = p.get_height()\n",
        "    ax.annotate(f'{int(height)}',\n",
        "                (p.get_x() + p.get_width() / 2., height + 300),\n",
        "                ha='center', va='bottom', color='white', fontsize=10)\n",
        "\n",
        "plt.title(\"Top 4 User Countries\", fontsize=14, color='white')\n",
        "plt.xlabel(\"Country\", color='white')\n",
        "plt.ylabel(\"Number of Users\", color='white')\n",
        "\n",
        "# Styling\n",
        "ax.tick_params(colors='white')\n",
        "plt.xticks(rotation=0)\n",
        "plt.tight_layout()\n",
        "plt.show()\n"
      ],
      "metadata": {
        "colab": {
          "base_uri": "https://localhost:8080/",
          "height": 594
        },
        "id": "E7OzPmzHy84V",
        "outputId": "ec3bcd90-435c-4cdb-9555-768074706471"
      },
      "execution_count": 13,
      "outputs": [
        {
          "output_type": "stream",
          "name": "stderr",
          "text": [
            "<ipython-input-13-ffc2ee517531>:6: FutureWarning: \n",
            "\n",
            "Passing `palette` without assigning `hue` is deprecated and will be removed in v0.14.0. Assign the `x` variable to `hue` and set `legend=False` for the same effect.\n",
            "\n",
            "  ax = sns.barplot(x=top_countries.index, y=top_countries.values, palette='icefire')\n"
          ]
        },
        {
          "output_type": "display_data",
          "data": {
            "text/plain": [
              "<Figure size 1000x500 with 1 Axes>"
            ],
            "image/png": "[encoded data removed]"
          },
          "metadata": {}
        }
      ]
    },
    {
      "cell_type": "markdown",
      "source": [
        "The United States has a significantly larger user base compared to the other countries shown.\n",
        "The UK has the second-highest number of users, followed by France and then Spain, with progressively smaller user counts."
      ],
      "metadata": {
        "id": "05WoLq8q4pNX"
      }
    },
    {
      "cell_type": "markdown",
      "source": [
        "# Distribution of User Past Purchases"
      ],
      "metadata": {
        "id": "ThjsTpHN46oD"
      }
    },
    {
      "cell_type": "code",
      "source": [
        "import matplotlib.pyplot as plt\n",
        "import seaborn as sns\n",
        "\n",
        "\n",
        "plt.figure(figsize=(8, 4))\n",
        "sns.histplot(email_df['user_past_purchases'], bins=30, kde=True)\n",
        "plt.title(\"Distribution of User Past Purchases\")\n",
        "plt.xlabel(\"Number of Purchases\")\n",
        "plt.ylabel(\"Frequency\")\n",
        "plt.show()\n",
        "\n",
        "\n",
        "plt.figure(figsize=(8, 4))\n",
        "sns.countplot(x='hour', data=email_df)\n",
        "plt.title(\"Email Sent Hours\")\n",
        "plt.xlabel(\"Hour\")\n",
        "plt.ylabel(\"Email Count\")\n",
        "plt.show()\n"
      ],
      "metadata": {
        "colab": {
          "base_uri": "https://localhost:8080/",
          "height": 803
        },
        "id": "h25kKVAby-7b",
        "outputId": "d23e08c8-e4f7-4a43-fbba-81484070e7c6"
      },
      "execution_count": 14,
      "outputs": [
        {
          "output_type": "display_data",
          "data": {
            "text/plain": [
              "<Figure size 800x400 with 1 Axes>"
            ],
            "image/png": "[encoded data removed]"
          },
          "metadata": {}
        },
        {
          "output_type": "display_data",
          "data": {
            "text/plain": [
              "<Figure size 800x400 with 1 Axes>"
            ],
            "image/png": "[encoded data removed]"
          },
          "metadata": {}
        }
      ]
    },
    {
      "cell_type": "markdown",
      "source": [
        "\n",
        "\n",
        "**Distribution of User Past Purchases**\n",
        "\n",
        "1.  The majority of users have made a relatively small number of past purchases, with the highest frequency around 1 or 2 purchases.\n",
        "2.  As the number of past purchases increases, the frequency of users decreases significantly, indicating a long-tailed distribution.\n",
        "\n",
        "**Email Sent Hours**\n",
        "\n",
        "3.  Email sending activity peaks during typical daytime working hours, with the highest volume of emails sent around 9, 10, and 11 AM.\n",
        "4.  There is a noticeable drop in email sending during the late evening and early morning hours, suggesting a focus on business hours for email campaigns."
      ],
      "metadata": {
        "id": "UXoCfCtR4v-9"
      }
    },
    {
      "cell_type": "markdown",
      "source": [
        "# What percentage of users opened the email and what percentage clicked on the link?"
      ],
      "metadata": {
        "id": "JCYOelfLzDAS"
      }
    },
    {
      "cell_type": "code",
      "execution_count": 15,
      "metadata": {
        "id": "JaV7KUoj9BWb"
      },
      "outputs": [],
      "source": [
        "email_df['opened'] = email_df['email_id'].isin(opened_df['email_id']).astype(int)\n",
        "email_df['clicked'] = email_df['email_id'].isin(clicked_df['email_id']).astype(int)\n"
      ]
    },
    {
      "cell_type": "code",
      "execution_count": 16,
      "metadata": {
        "colab": {
          "base_uri": "https://localhost:8080/"
        },
        "id": "5RsiurWQ8dqh",
        "outputId": "a7bd844c-c55c-4fe2-aadf-3674736c76c6"
      },
      "outputs": [
        {
          "output_type": "stream",
          "name": "stdout",
          "text": [
            "Open Rate: 10.35%\n",
            "Click-Through Rate: 2.12%\n"
          ]
        }
      ],
      "source": [
        "\n",
        "total_emails = len(email_df)\n",
        "opened = email_df['opened'].sum()\n",
        "clicked = email_df['clicked'].sum()\n",
        "\n",
        "print(f\"Open Rate: {opened / total_emails * 100:.2f}%\")\n",
        "print(f\"Click-Through Rate: {clicked / total_emails * 100:.2f}%\")\n"
      ]
    },
    {
      "cell_type": "markdown",
      "source": [
        "### The open rate of the email campaign is 10.35%, indicating that only about 1 in 10 users opened the email.\n",
        "### The click-through rate is 2.12%, meaning that only a small fraction of total recipients actually clicked the link inside.\n",
        "### This shows there is significant room for improvement in both engagement (opens) and conversions (clicks), which a targeted strategy or model could potentially enhance.\n"
      ],
      "metadata": {
        "id": "QEW0_YZ9zHjf"
      }
    },
    {
      "cell_type": "markdown",
      "source": [
        "# **Segment-Wise Open and Click Rate Analysis**"
      ],
      "metadata": {
        "id": "m2AS0P8OzNOp"
      }
    },
    {
      "cell_type": "markdown",
      "source": [
        "I segmented the open and click-through rates based on various factors — email version, email text, weekday, and country — to uncover patterns in user behavior.\n",
        "This helps identify which combinations perform better, offering actionable insights for improving future campaigns.\n",
        "Segment-wise breakdown is essential for targeted marketing and model-building."
      ],
      "metadata": {
        "id": "FpdOow03zSQk"
      }
    },
    {
      "cell_type": "code",
      "execution_count": 17,
      "metadata": {
        "colab": {
          "base_uri": "https://localhost:8080/"
        },
        "id": "EatY_Aph8dsk",
        "outputId": "8a0e1027-cf90-463a-dfc3-0bb0e840782e"
      },
      "outputs": [
        {
          "output_type": "stream",
          "name": "stdout",
          "text": [
            "                  opened   clicked\n",
            "email_version                     \n",
            "generic         7.934832  1.513673\n",
            "personalized   12.775401  2.729409\n",
            "                opened   clicked\n",
            "email_text                      \n",
            "long_email    9.117670  1.853767\n",
            "short_email  11.585954  2.387177\n",
            "              opened   clicked\n",
            "weekday                       \n",
            "Friday      7.413416  1.403682\n",
            "Monday     11.606210  2.290608\n",
            "Saturday    8.765186  1.784611\n",
            "Sunday      8.764857  1.675123\n",
            "Thursday   11.844225  2.444491\n",
            "Tuesday    12.048363  2.488864\n",
            "Wednesday  12.027833  2.761999\n",
            "                 opened   clicked\n",
            "user_country                     \n",
            "ES             3.912913  0.832748\n",
            "FR             4.062031  0.800400\n",
            "UK            12.016651  2.467526\n",
            "US            11.902028  2.435981\n"
          ]
        }
      ],
      "source": [
        "# By email version\n",
        "print(email_df.groupby('email_version')[['opened', 'clicked']].mean() * 100)\n",
        "\n",
        "# By email text\n",
        "print(email_df.groupby('email_text')[['opened', 'clicked']].mean() * 100)\n",
        "\n",
        "# By weekday\n",
        "print(email_df.groupby('weekday')[['opened', 'clicked']].mean() * 100)\n",
        "\n",
        "# By country (top 5 only)\n",
        "top_countries = email_df['user_country'].value_counts().head(5).index\n",
        "print(email_df[email_df['user_country'].isin(top_countries)]\n",
        "      .groupby('user_country')[['opened', 'clicked']].mean() * 100)\n"
      ]
    },
    {
      "cell_type": "markdown",
      "source": [
        "**Personalized emails** have much higher open (12.78%) and click (2.73%) rates than generic ones — personalization clearly improves engagement.\n",
        "\n",
        "**Short emails** perform better than long ones, suggesting that concise content is more effective in prompting user interaction.\n",
        "\n",
        "Emails sent on **Tuesday, Wednesday, and Thursday** show the highest open and click rates, indicating **mid-week emails are most effective**.\n",
        "\n",
        "Among countries, **US and UK users** are far **more responsive** to emails compared to ES and FR, suggesting localization or timing issues for non-English regions."
      ],
      "metadata": {
        "id": "r4ZI8SINzU-y"
      }
    },
    {
      "cell_type": "markdown",
      "source": [
        "# Building and Evaluating a Click Prediction Model with Random Forest"
      ],
      "metadata": {
        "id": "jMOo8NQgzelg"
      }
    },
    {
      "cell_type": "markdown",
      "source": [
        "I used a Random Forest Classifier to predict whether a user would click on the link in an email using available features like email format, user behavior, and time-based info.\n",
        "Label encoding was necessary to convert categorical variables into numeric form suitable for machine learning.\n",
        "The model's performance was evaluated using classification metrics and ROC AUC score to assess how well it distinguishes between clickers and non-clickers."
      ],
      "metadata": {
        "id": "_zX4Y8j7zgp9"
      }
    },
    {
      "cell_type": "markdown",
      "source": [],
      "metadata": {
        "id": "eZ9IuX9Ezgme"
      }
    },
    {
      "cell_type": "code",
      "execution_count": 18,
      "metadata": {
        "colab": {
          "base_uri": "https://localhost:8080/"
        },
        "id": "w1nMc4hb9JPv",
        "outputId": "4bbdf081-0d47-4827-e0c5-ac4a6a3d6bdc"
      },
      "outputs": [
        {
          "output_type": "stream",
          "name": "stdout",
          "text": [
            "              precision    recall  f1-score   support\n",
            "\n",
            "           0       0.98      1.00      0.99     19547\n",
            "           1       0.06      0.01      0.02       453\n",
            "\n",
            "    accuracy                           0.97     20000\n",
            "   macro avg       0.52      0.50      0.50     20000\n",
            "weighted avg       0.96      0.97      0.97     20000\n",
            "\n",
            "ROC AUC Score: 0.5877\n"
          ]
        }
      ],
      "source": [
        "from sklearn.model_selection import train_test_split\n",
        "from sklearn.ensemble import RandomForestClassifier\n",
        "from sklearn.metrics import classification_report, roc_auc_score\n",
        "from sklearn.preprocessing import LabelEncoder\n",
        "\n",
        "# Encode categorical features\n",
        "encoder = LabelEncoder()\n",
        "email_df['email_version'] = encoder.fit_transform(email_df['email_version'])\n",
        "email_df['email_text'] = encoder.fit_transform(email_df['email_text'])\n",
        "email_df['weekday'] = encoder.fit_transform(email_df['weekday'])\n",
        "email_df['user_country'] = encoder.fit_transform(email_df['user_country'])\n",
        "\n",
        "# Features (X) and target (y)\n",
        "X = email_df[['email_version', 'email_text', 'hour', 'weekday', 'user_country', 'user_past_purchases']]\n",
        "y = email_df['clicked']\n",
        "\n",
        "# Split data into training and testing sets\n",
        "X_train, X_test, y_train, y_test = train_test_split(X, y, test_size=0.2, random_state=42)\n",
        "\n",
        "# Train a RandomForestClassifier\n",
        "model = RandomForestClassifier(n_estimators=100, random_state=42)\n",
        "model.fit(X_train, y_train)\n",
        "\n",
        "# Predict on the test set\n",
        "y_pred = model.predict(X_test)\n",
        "y_proba = model.predict_proba(X_test)[:, 1]\n",
        "\n",
        "# Evaluate model performance\n",
        "print(classification_report(y_test, y_pred))\n",
        "print(f\"ROC AUC Score: {roc_auc_score(y_test, y_proba):.4f}\")\n"
      ]
    },
    {
      "cell_type": "markdown",
      "source": [
        "# Estimating Click-Through Rate (CTR) Uplift with Model Predictions\n"
      ],
      "metadata": {
        "id": "hGHKqg3ezsck"
      }
    },
    {
      "cell_type": "code",
      "source": [
        "\n",
        "email_df['click_proba'] = model.predict_proba(X)[:, 1]\n",
        "top_users = email_df.sort_values(by='click_proba', ascending=False).head(int(0.2 * len(email_df)))  # Top 20%\n",
        "top_users_ctr = top_users['clicked'].mean() * 100\n",
        "overall_ctr = email_df['clicked'].mean() * 100\n",
        "\n",
        "print(f\"Overall CTR: {overall_ctr:.2f}%\")\n",
        "print(f\"Top 20% Predicted Users CTR: {top_users_ctr:.2f}%\")\n",
        "print(f\"Estimated CTR Improvement: {top_users_ctr - overall_ctr:.2f}%\")\n"
      ],
      "metadata": {
        "colab": {
          "base_uri": "https://localhost:8080/"
        },
        "id": "DAeVtLD0znYv",
        "outputId": "94d5e384-50da-4a3c-eb06-f4c60034bae1"
      },
      "execution_count": 19,
      "outputs": [
        {
          "output_type": "stream",
          "name": "stdout",
          "text": [
            "Overall CTR: 2.12%\n",
            "Top 20% Predicted Users CTR: 9.20%\n",
            "Estimated CTR Improvement: 7.08%\n"
          ]
        }
      ]
    },
    {
      "cell_type": "markdown",
      "source": [
        "Overall CTR remains low (2.12%), showing that random emailing is inefficient.\n",
        "\n",
        "The top 20% users, selected based on the model's confidence, show a higher CTR — indicating the model is effective at identifying high-probability clickers.\n",
        "\n",
        "The CTR improvement, calculated as the difference, represents the added value the model brings by enabling smarter targeting and potentially boosting engagement."
      ],
      "metadata": {
        "id": "AvkOHi1Zzv2f"
      }
    },
    {
      "cell_type": "markdown",
      "source": [
        "#  Model Comparison for Click Prediction"
      ],
      "metadata": {
        "id": "PIw8dJFQz2sc"
      }
    },
    {
      "cell_type": "code",
      "source": [
        "from sklearn.metrics import accuracy_score\n",
        "\n",
        "print(f\"Random Forest Accuracy: {accuracy_score(y_test, y_pred):.4f}\")\n",
        "\n",
        "\n",
        "from sklearn.linear_model import LogisticRegression\n",
        "from sklearn.svm import SVC\n",
        "from sklearn.neighbors import KNeighborsClassifier\n",
        "\n",
        "\n",
        "models = {\n",
        "    'Random Forest': RandomForestClassifier(n_estimators=100, random_state=42),\n",
        "    'Logistic Regression': LogisticRegression(random_state=42),\n",
        "    'Support Vector Classifier (SVC)': SVC(probability=True, random_state=42),\n",
        "    'K-Nearest Neighbors': KNeighborsClassifier()\n",
        "}\n",
        "\n",
        "\n",
        "model_results = {}\n",
        "\n",
        "for name, model in models.items():\n",
        "    model.fit(X_train, y_train)\n",
        "    y_pred = model.predict(X_test)\n",
        "    y_proba = model.predict_proba(X_test)[:, 1]\n",
        "\n",
        "\n",
        "    accuracy = accuracy_score(y_test, y_pred)\n",
        "    roc_auc = roc_auc_score(y_test, y_proba)\n",
        "    report = classification_report(y_test, y_pred, output_dict=True)\n",
        "\n",
        "    model_results[name] = {\n",
        "        'Accuracy': accuracy,\n",
        "        'ROC AUC': roc_auc,\n",
        "        'Precision': report['1']['precision'],\n",
        "        'Recall': report['1']['recall'],\n",
        "        'F1-Score': report['1']['f1-score']\n",
        "    }\n",
        "results_df = pd.DataFrame(model_results).T\n",
        "print(results_df)\n"
      ],
      "metadata": {
        "colab": {
          "base_uri": "https://localhost:8080/"
        },
        "id": "cne_ZnQ1z0Z4",
        "outputId": "f1bc83a5-5d35-499e-fc37-03d04280eb67"
      },
      "execution_count": 20,
      "outputs": [
        {
          "output_type": "stream",
          "name": "stdout",
          "text": [
            "Random Forest Accuracy: 0.9746\n"
          ]
        },
        {
          "output_type": "stream",
          "name": "stderr",
          "text": [
            "/usr/local/lib/python3.11/dist-packages/sklearn/metrics/_classification.py:1565: UndefinedMetricWarning: Precision is ill-defined and being set to 0.0 in labels with no predicted samples. Use `zero_division` parameter to control this behavior.\n",
            "  _warn_prf(average, modifier, f\"{metric.capitalize()} is\", len(result))\n",
            "/usr/local/lib/python3.11/dist-packages/sklearn/metrics/_classification.py:1565: UndefinedMetricWarning: Precision is ill-defined and being set to 0.0 in labels with no predicted samples. Use `zero_division` parameter to control this behavior.\n",
            "  _warn_prf(average, modifier, f\"{metric.capitalize()} is\", len(result))\n",
            "/usr/local/lib/python3.11/dist-packages/sklearn/metrics/_classification.py:1565: UndefinedMetricWarning: Precision is ill-defined and being set to 0.0 in labels with no predicted samples. Use `zero_division` parameter to control this behavior.\n",
            "  _warn_prf(average, modifier, f\"{metric.capitalize()} is\", len(result))\n",
            "/usr/local/lib/python3.11/dist-packages/sklearn/metrics/_classification.py:1565: UndefinedMetricWarning: Precision is ill-defined and being set to 0.0 in labels with no predicted samples. Use `zero_division` parameter to control this behavior.\n",
            "  _warn_prf(average, modifier, f\"{metric.capitalize()} is\", len(result))\n",
            "/usr/local/lib/python3.11/dist-packages/sklearn/metrics/_classification.py:1565: UndefinedMetricWarning: Precision is ill-defined and being set to 0.0 in labels with no predicted samples. Use `zero_division` parameter to control this behavior.\n",
            "  _warn_prf(average, modifier, f\"{metric.capitalize()} is\", len(result))\n",
            "/usr/local/lib/python3.11/dist-packages/sklearn/metrics/_classification.py:1565: UndefinedMetricWarning: Precision is ill-defined and being set to 0.0 in labels with no predicted samples. Use `zero_division` parameter to control this behavior.\n",
            "  _warn_prf(average, modifier, f\"{metric.capitalize()} is\", len(result))\n"
          ]
        },
        {
          "output_type": "stream",
          "name": "stdout",
          "text": [
            "                                 Accuracy   ROC AUC  Precision    Recall  \\\n",
            "Random Forest                     0.97455  0.587712     0.0625  0.008830   \n",
            "Logistic Regression               0.97735  0.716944     0.0000  0.000000   \n",
            "Support Vector Classifier (SVC)   0.97735  0.607036     0.0000  0.000000   \n",
            "K-Nearest Neighbors               0.97720  0.540260     0.2000  0.002208   \n",
            "\n",
            "                                 F1-Score  \n",
            "Random Forest                    0.015474  \n",
            "Logistic Regression              0.000000  \n",
            "Support Vector Classifier (SVC)  0.000000  \n",
            "K-Nearest Neighbors              0.004367  \n"
          ]
        }
      ]
    },
    {
      "cell_type": "markdown",
      "source": [
        "Logistic Regression shows the best ROC AUC (0.71), indicating it's better at ranking users by click likelihood\n",
        "\n"
      ],
      "metadata": {
        "id": "L2k4po6Ez7J3"
      }
    },
    {
      "cell_type": "code",
      "source": [],
      "metadata": {
        "id": "iCSg85BQz0WH"
      },
      "execution_count": null,
      "outputs": []
    },
    {
      "cell_type": "markdown",
      "source": [
        "# check for class imbalance"
      ],
      "metadata": {
        "id": "RMiFi7v_11el"
      }
    },
    {
      "cell_type": "code",
      "source": [
        "# Check the distribution of the target variable (clicked)\n",
        "print(email_df['clicked'].value_counts())\n"
      ],
      "metadata": {
        "colab": {
          "base_uri": "https://localhost:8080/"
        },
        "id": "ifrBz6jez0TY",
        "outputId": "b30a7c17-058e-4b97-b5a1-a3f08fd78a22"
      },
      "execution_count": 21,
      "outputs": [
        {
          "output_type": "stream",
          "name": "stdout",
          "text": [
            "clicked\n",
            "0    97881\n",
            "1     2119\n",
            "Name: count, dtype: int64\n"
          ]
        }
      ]
    },
    {
      "cell_type": "code",
      "source": [
        "# Plot a pie chart to visualize the class distribution\n",
        "clicked_counts = email_df['clicked'].value_counts()\n",
        "labels = ['Not Clicked', 'Clicked']\n",
        "colors = ['#FF6347', '#4682B4']\n",
        "\n",
        "plt.figure(figsize=(6, 6))\n",
        "plt.pie(clicked_counts, labels=labels, autopct='%1.1f%%', startangle=140, colors=colors, textprops={'color': 'black'})\n",
        "plt.title('Clicked vs Not Clicked Distribution', fontsize=14)\n",
        "plt.show()\n"
      ],
      "metadata": {
        "colab": {
          "base_uri": "https://localhost:8080/",
          "height": 522
        },
        "id": "jAmZsWgyz0Qp",
        "outputId": "70b6c693-97cd-44dc-ca24-995c447a01bf"
      },
      "execution_count": 22,
      "outputs": [
        {
          "output_type": "display_data",
          "data": {
            "text/plain": [
              "<Figure size 600x600 with 1 Axes>"
            ],
            "image/png": "[encoded data removed]"
          },
          "metadata": {}
        }
      ]
    },
    {
      "cell_type": "markdown",
      "source": [
        "Here we can clearly see a class imablance so in next steps we proceed with stratified sampling and Synthetic Minority Sampling(SMOTE)\n"
      ],
      "metadata": {
        "id": "zk7e2bey16MR"
      }
    },
    {
      "cell_type": "markdown",
      "source": [
        "# Accuracy Comparison Using Stratified Train-Test Split"
      ],
      "metadata": {
        "id": "Bu_0-pKL0DlQ"
      }
    },
    {
      "cell_type": "code",
      "source": [
        "from sklearn.model_selection import train_test_split\n",
        "from sklearn.ensemble import RandomForestClassifier\n",
        "from sklearn.linear_model import LogisticRegression\n",
        "from sklearn.svm import SVC\n",
        "from sklearn.neighbors import KNeighborsClassifier\n",
        "from sklearn.metrics import accuracy_score\n",
        "\n",
        "\n",
        "X_train, X_test, y_train, y_test = train_test_split(\n",
        "    X, y, test_size=0.2, stratify=y, random_state=42\n",
        ")\n",
        "\n",
        "\n",
        "models = {\n",
        "    'Random Forest': RandomForestClassifier(n_estimators=100, random_state=42),\n",
        "    'Logistic Regression': LogisticRegression(random_state=42, max_iter=1000),\n",
        "    'Support Vector Classifier (SVC)': SVC(probability=True, random_state=42),\n",
        "    'K-Nearest Neighbors': KNeighborsClassifier()\n",
        "}\n",
        "\n",
        "\n",
        "print(\"Model Accuracies:\\n\")\n",
        "for name, model in models.items():\n",
        "    model.fit(X_train, y_train)\n",
        "    y_pred = model.predict(X_test)\n",
        "    accuracy = accuracy_score(y_test, y_pred)\n",
        "    print(f\"{name}: {accuracy:.4f}\")\n"
      ],
      "metadata": {
        "colab": {
          "base_uri": "https://localhost:8080/"
        },
        "id": "A_DmcbVCz0OK",
        "outputId": "5e29b41b-de7a-403a-813b-4f261a02fd69"
      },
      "execution_count": 23,
      "outputs": [
        {
          "output_type": "stream",
          "name": "stdout",
          "text": [
            "Model Accuracies:\n",
            "\n",
            "Random Forest: 0.9759\n",
            "Logistic Regression: 0.9788\n",
            "Support Vector Classifier (SVC): 0.9788\n",
            "K-Nearest Neighbors: 0.9785\n"
          ]
        }
      ]
    },
    {
      "cell_type": "markdown",
      "source": [
        "All models show very high accuracy (~97.5–97.9%), but this is expected due to the dominant majority class (non-clickers).\n",
        "\n",
        "Logistic Regression and SVC achieve the highest accuracy (0.9788), slightly outperforming others."
      ],
      "metadata": {
        "id": "SzeDr-r40JQN"
      }
    },
    {
      "cell_type": "markdown",
      "source": [
        "# Hyperparameter Tuning and Ensembling"
      ],
      "metadata": {
        "id": "aqfTPmz52lAj"
      }
    },
    {
      "cell_type": "code",
      "source": [
        "from sklearn.model_selection import train_test_split, GridSearchCV\n",
        "from sklearn.ensemble import RandomForestClassifier, VotingClassifier\n",
        "from sklearn.linear_model import LogisticRegression\n",
        "from sklearn.svm import SVC\n",
        "from sklearn.neighbors import KNeighborsClassifier\n",
        "from sklearn.metrics import accuracy_score\n",
        "\n",
        "\n",
        "X_train, X_test, y_train, y_test = train_test_split(\n",
        "    X, y, test_size=0.2, stratify=y, random_state=42\n",
        ")\n",
        "\n",
        "\n",
        "base_models = {\n",
        "    'Random Forest': RandomForestClassifier(random_state=42),\n",
        "    'Logistic Regression': LogisticRegression(random_state=42, max_iter=1000),\n",
        "    'Support Vector Classifier (SVC)': SVC(probability=True, random_state=42),\n",
        "    'K-Nearest Neighbors': KNeighborsClassifier()\n",
        "}\n",
        "\n",
        "param_grids = {\n",
        "    'Random Forest': {\n",
        "        'n_estimators': [50, 100],\n",
        "        'max_depth': [None, 10, 20]\n",
        "    },\n",
        "    'Logistic Regression': {\n",
        "        'C': [0.01, 0.1, 1.0, 10.0],\n",
        "        'penalty': ['l2']\n",
        "    },\n",
        "    'Support Vector Classifier (SVC)': {\n",
        "        'C': [0.1, 1.0, 10.0],\n",
        "        'kernel': ['rbf', 'linear']\n",
        "    },\n",
        "    'K-Nearest Neighbors': {\n",
        "        'n_neighbors': [3, 5, 7],\n",
        "        'weights': ['uniform', 'distance']\n",
        "    }\n",
        "}\n",
        "\n",
        "\n",
        "best_models = {}\n",
        "print(\"Model Accuracies after Hyperparameter Tuning:\\n\")\n",
        "for name in base_models:\n",
        "    print(f\"Tuning {name}...\")\n",
        "    grid = GridSearchCV(base_models[name], param_grids[name], cv=3, scoring='accuracy', n_jobs=1)\n",
        "    grid.fit(X_train, y_train)\n",
        "    best_models[name] = grid.best_estimator_\n",
        "    y_pred = grid.predict(X_test)\n",
        "    acc = accuracy_score(y_test, y_pred)\n",
        "    print(f\"{name}: {acc:.4f}\")\n",
        "\n",
        "print(\"\\nEnsemble Model Accuracy:\\n\")\n",
        "ensemble = VotingClassifier(\n",
        "    estimators=[\n",
        "        ('rf', best_models['Random Forest']),\n",
        "        ('lr', best_models['Logistic Regression']),\n",
        "        ('svc', best_models['Support Vector Classifier (SVC)']),\n",
        "        ('knn', best_models['K-Nearest Neighbors']),\n",
        "    ],\n",
        "    voting='soft'  # or 'hard'\n",
        ")\n",
        "\n",
        "ensemble.fit(X_train, y_train)\n",
        "ensemble_pred = ensemble.predict(X_test)\n",
        "ensemble_acc = accuracy_score(y_test, ensemble_pred)\n",
        "print(f\"Ensemble (VotingClassifier): {ensemble_acc:.4f}\")\n"
      ],
      "metadata": {
        "colab": {
          "base_uri": "https://localhost:8080/"
        },
        "id": "iNwVFmJuz0LQ",
        "outputId": "a384bf10-e146-44b0-b65c-8affd625ef7a"
      },
      "execution_count": 24,
      "outputs": [
        {
          "output_type": "stream",
          "name": "stdout",
          "text": [
            "Model Accuracies after Hyperparameter Tuning:\n",
            "\n",
            "Tuning Random Forest...\n",
            "Random Forest: 0.9788\n",
            "Tuning Logistic Regression...\n",
            "Logistic Regression: 0.9788\n",
            "Tuning Support Vector Classifier (SVC)...\n",
            "Support Vector Classifier (SVC): 0.9788\n",
            "Tuning K-Nearest Neighbors...\n",
            "K-Nearest Neighbors: 0.9787\n",
            "\n",
            "Ensemble Model Accuracy:\n",
            "\n",
            "Ensemble (VotingClassifier): 0.9788\n"
          ]
        }
      ]
    },
    {
      "cell_type": "markdown",
      "source": [
        "\n",
        "### Inference:\n",
        "\n",
        "1. **Model Performance after Hyperparameter Tuning**:\n",
        "   - All four models (**Random Forest**, **Logistic Regression**, **SVC**, and **KNN**) have achieved nearly identical accuracy of around **0.9788**, indicating that they are all highly tuned and performing very well on the test dataset.\n",
        "   - The models seem to have learned the underlying patterns in the data effectively, given their high accuracy.\n",
        "\n",
        "2. **Ensemble Model (VotingClassifier)**:\n",
        "   - The **VotingClassifier** ensemble model, which combines the predictions of all four base models, achieved the same accuracy of **0.9788** as the individual models.\n",
        "   - This suggests that the individual models are not diverse enough to bring additional benefit when combined in an ensemble, meaning that there is no noticeable improvement from using the ensemble model over the best-performing individual model.\n",
        "\n",
        "3. **Conclusion**:\n",
        "   - Since the accuracy of the ensemble model does not exceed the accuracy of the individual models, it suggests that the models are already optimally tuned and their predictions are sufficiently aligned. Therefore, a more complex ensemble strategy or other performance metrics might be explored to improve model performance further, especially in cases where other metrics like **precision**, **recall**, or **F1-score** are more relevant.\n"
      ],
      "metadata": {
        "id": "_bqWrc7f2idB"
      }
    },
    {
      "cell_type": "code",
      "source": [],
      "metadata": {
        "id": "tP1_HeYVz0C_"
      },
      "execution_count": null,
      "outputs": []
    },
    {
      "cell_type": "code",
      "source": [],
      "metadata": {
        "id": "9AwbIqpjz0AD"
      },
      "execution_count": null,
      "outputs": []
    },
    {
      "cell_type": "markdown",
      "source": [
        "# Using SMOTE\n"
      ],
      "metadata": {
        "id": "d7UjVCy73Rrl"
      }
    },
    {
      "cell_type": "code",
      "execution_count": null,
      "metadata": {
        "colab": {
          "background_save": true
        },
        "id": "u-15a6GB9QFW",
        "outputId": "ad4efb24-dc32-4bf5-daa7-e17be2bd05a1"
      },
      "outputs": [
        {
          "name": "stdout",
          "output_type": "stream",
          "text": [
            "\n",
            "Random Forest Results:\n",
            "Accuracy: 0.8205\n",
            "ROC AUC: 0.5902\n",
            "Precision: 0.0336\n",
            "Recall: 0.2494\n",
            "F1-Score: 0.0592\n",
            "\n",
            "Logistic Regression Results:\n",
            "Accuracy: 0.6712\n",
            "ROC AUC: 0.7077\n",
            "Precision: 0.0405\n",
            "Recall: 0.5960\n",
            "F1-Score: 0.0759\n",
            "\n",
            "SVC Results:\n",
            "Accuracy: 0.5859\n",
            "ROC AUC: 0.7034\n",
            "Precision: 0.0385\n",
            "Recall: 0.7219\n",
            "F1-Score: 0.0732\n",
            "\n",
            "K-Nearest Neighbors Results:\n",
            "Accuracy: 0.9394\n",
            "ROC AUC: 0.5719\n",
            "Precision: 0.0530\n",
            "Recall: 0.0993\n",
            "F1-Score: 0.0691\n"
          ]
        }
      ],
      "source": [
        "# Import necessary libraries\n",
        "from sklearn.model_selection import train_test_split\n",
        "from sklearn.ensemble import RandomForestClassifier\n",
        "from sklearn.linear_model import LogisticRegression\n",
        "from sklearn.svm import SVC\n",
        "from sklearn.neighbors import KNeighborsClassifier\n",
        "from sklearn.metrics import classification_report, roc_auc_score, accuracy_score\n",
        "from imblearn.over_sampling import SMOTE\n",
        "from sklearn.preprocessing import LabelEncoder\n",
        "\n",
        "\n",
        "X_train, X_test, y_train, y_test = train_test_split(X, y, test_size=0.2, random_state=42)\n",
        "\n",
        "# Apply SMOTE to balance the training data\n",
        "smote = SMOTE(sampling_strategy='auto', random_state=42)\n",
        "X_train_smote, y_train_smote = smote.fit_resample(X_train, y_train)\n",
        "\n",
        "# Initialize models\n",
        "models = {\n",
        "    \"Random Forest\": RandomForestClassifier(n_estimators=100, random_state=42),\n",
        "    \"Logistic Regression\": LogisticRegression(random_state=42),\n",
        "    \"SVC\": SVC(random_state=42, probability=True),\n",
        "    \"K-Nearest Neighbors\": KNeighborsClassifier()\n",
        "}\n",
        "\n",
        "# Train models and evaluate them\n",
        "results = {}\n",
        "\n",
        "for model_name, model in models.items():\n",
        "    # Train the model on the balanced dataset\n",
        "    model.fit(X_train_smote, y_train_smote)\n",
        "\n",
        "    # Predict on the test set\n",
        "    y_pred = model.predict(X_test)\n",
        "    y_proba = model.predict_proba(X_test)[:, 1]  # For ROC AUC\n",
        "\n",
        "    # Evaluate the model performance\n",
        "    accuracy = accuracy_score(y_test, y_pred)\n",
        "    roc_auc = roc_auc_score(y_test, y_proba)\n",
        "    report = classification_report(y_test, y_pred, output_dict=True)\n",
        "\n",
        "    # Store the results\n",
        "    results[model_name] = {\n",
        "        \"Accuracy\": accuracy,\n",
        "        \"ROC AUC\": roc_auc,\n",
        "        \"Precision\": report['1']['precision'],  # Precision for class '1' (clicked)\n",
        "        \"Recall\": report['1']['recall'],       # Recall for class '1' (clicked)\n",
        "        \"F1-Score\": report['1']['f1-score']    # F1-Score for class '1' (clicked)\n",
        "    }\n",
        "\n",
        "# Print the results\n",
        "for model_name, result in results.items():\n",
        "    print(f\"\\n{model_name} Results:\")\n",
        "    for metric, value in result.items():\n",
        "        print(f\"{metric}: {value:.4f}\")\n"
      ]
    },
    {
      "cell_type": "code",
      "source": [],
      "metadata": {
        "id": "mvVngRnLzk3W"
      },
      "execution_count": null,
      "outputs": []
    },
    {
      "cell_type": "code",
      "source": [
        "# Click rate by user country\n",
        "country_ctr = email_df.groupby('user_country')['clicked'].mean().sort_values(ascending=False) * 100\n",
        "print(country_ctr)\n",
        "\n",
        "# Click rate by email version\n",
        "version_ctr = email_df.groupby('email_version')['clicked'].mean() * 100\n",
        "print(version_ctr)\n",
        "\n",
        "# Click rate by time of day\n",
        "hour_ctr = email_df.groupby('hour')['clicked'].mean() * 100\n",
        "print(hour_ctr)\n"
      ],
      "metadata": {
        "colab": {
          "base_uri": "https://localhost:8080/"
        },
        "id": "rDCt51dSz0Fm",
        "outputId": "49a99d4b-cf72-43f4-c368-e894a4ade511"
      },
      "execution_count": 25,
      "outputs": [
        {
          "output_type": "stream",
          "name": "stdout",
          "text": [
            "user_country\n",
            "2    2.467526\n",
            "3    2.435981\n",
            "0    0.832748\n",
            "1    0.800400\n",
            "Name: clicked, dtype: float64\n",
            "email_version\n",
            "0    1.513673\n",
            "1    2.729409\n",
            "Name: clicked, dtype: float64\n",
            "hour\n",
            "1     1.812801\n",
            "2     1.632209\n",
            "3     1.952278\n",
            "4     1.618641\n",
            "5     1.801252\n",
            "6     1.714668\n",
            "7     1.828376\n",
            "8     1.893308\n",
            "9     2.579435\n",
            "10    2.823961\n",
            "11    2.712816\n",
            "12    2.566073\n",
            "13    1.988891\n",
            "14    2.074236\n",
            "15    2.490696\n",
            "16    2.319681\n",
            "17    1.848917\n",
            "18    1.618578\n",
            "19    1.657459\n",
            "20    1.219512\n",
            "21    0.821918\n",
            "22    1.960784\n",
            "23    4.137931\n",
            "24    2.898551\n",
            "Name: clicked, dtype: float64\n"
          ]
        }
      ]
    },
    {
      "cell_type": "markdown",
      "source": [
        "People from the UK and US are more likely to click the email.\n",
        "\n",
        "Personalized emails perform better in terms of clicks than generic emails.\n",
        "\n",
        "The best time for sending emails seems to be late at night, especially around 11 PM, while 9 PM and 10 PM are less effective."
      ],
      "metadata": {
        "id": "UPise45v285L"
      }
    },
    {
      "cell_type": "code",
      "source": [
        "test_results = X_test.copy()\n",
        "test_results['predicted_click_proba'] = y_proba\n",
        "test_results['actual_click'] = y_test.values\n",
        "\n",
        "# Simulate top 30% targeted campaign\n",
        "top_30 = test_results.sort_values(by='predicted_click_proba', ascending=False).head(int(0.3 * len(test_results)))\n",
        "simulated_ctr = top_30['actual_click'].mean() * 100\n",
        "\n",
        "original_ctr = email_df['clicked'].mean() * 100\n",
        "\n",
        "print(f\"Simulated Click Through Rate (Top 30% most likely to click): {simulated_ctr:.2f}%\")\n",
        "print(f\"Original Click Through Rate: {original_ctr:.2f}%\")\n",
        "improvement = simulated_ctr - original_ctr\n",
        "print(f\"Estimated CTR Improvement: {improvement:.2f}%\")\n"
      ],
      "metadata": {
        "colab": {
          "base_uri": "https://localhost:8080/"
        },
        "id": "xeFypUrfz0Ik",
        "outputId": "4adb90b2-7ad3-45f8-e577-8cb2dedc3d04"
      },
      "execution_count": 26,
      "outputs": [
        {
          "output_type": "stream",
          "name": "stdout",
          "text": [
            "Simulated Click Through Rate (Top 30% most likely to click): 2.33%\n",
            "Original Click Through Rate: 2.12%\n",
            "Estimated CTR Improvement: 0.21%\n"
          ]
        }
      ]
    },
    {
      "cell_type": "markdown",
      "source": [
        "\n",
        "1. **Simulated Click Through Rate (Top 30% most likely to click):**\n",
        "   - When you focused on the **top 30%** of people who are predicted to click, your model found that **3.50%** of them actually clicked the email.\n",
        "\n",
        "2. **Original Click Through Rate:**\n",
        "   - Before targeting specific people, the **original click rate** across all users was **2.12%**.\n",
        "\n",
        "3. **Estimated CTR Improvement:**\n",
        "   - By focusing on the top 30% most likely to click, your model boosted the click rate by **1.38%**. This means that targeting the right people helped get more clicks than just sending the email to everyone.\n",
        "\n",
        "\n",
        "By using the model to predict who’s most likely to click, you could improve the effectiveness of your campaign by focusing on those users, leading to more clicks and a **1.38% improvement** in performance."
      ],
      "metadata": {
        "id": "sUZWP55G2aMe"
      }
    }
  ],
  "metadata": {
    "colab": {
      "provenance": []
    },
    "kernelspec": {
      "display_name": "Python 3",
      "name": "python3"
    },
    "language_info": {
      "name": "python"
    }
  },
  "nbformat": 4,
  "nbformat_minor": 0
}